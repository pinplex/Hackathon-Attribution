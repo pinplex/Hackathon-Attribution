{
 "cells": [
  {
   "cell_type": "code",
   "execution_count": 2,
   "metadata": {},
   "outputs": [],
   "source": [
    "import torch\n",
    "import xarray as xr\n",
    "import matplotlib.pyplot as plt\n",
    "\n",
    "import sys\n",
    "sys.path.append('../')\n",
    "\n",
    "from pytorch_utils.data_pipeline import TSData"
   ]
  },
  {
   "cell_type": "markdown",
   "metadata": {},
   "source": [
    "## Data loder for a sequential model\n",
    "\n",
    "* For the training loader, we use a window size of 100 time steps from the range 1980-01-01 to 2000-12-31\n",
    "* For the validation loader, we use the entire sequence 2001-01-01 to 2020-12-31"
   ]
  },
  {
   "cell_type": "code",
   "execution_count": 4,
   "metadata": {},
   "outputs": [],
   "source": [
    "ds = xr.open_zarr('./simple_sm_model/data/era5_40N6W.zarr').load()\n",
    "\n",
    "train_loader = torch.utils.data.DataLoader(\n",
    "    TSData(ds=ds, features=['et', 'tp'], targets='sm', time_slice=slice('1980', '2000')),\n",
    "    batch_size=50,\n",
    "    shuffle=True)\n",
    "valid_loader = torch.utils.data.DataLoader(\n",
    "    TSData(ds=ds, features=['et', 'tp'], targets='sm', time_slice=slice('2001', '2020'), norm_stats=train_loader.dataset.norm_stats),\n",
    "    batch_size=1,\n",
    "    shuffle=False)"
   ]
  },
  {
   "cell_type": "markdown",
   "metadata": {},
   "source": [
    "## We can iterate the data in batches of size 50"
   ]
  },
  {
   "cell_type": "code",
   "execution_count": 5,
   "metadata": {},
   "outputs": [
    {
     "name": "stdout",
     "output_type": "stream",
     "text": [
      "torch.Size([50, 7671, 2]) torch.Size([50, 7671, 1])\n",
      "torch.Size([50, 7671, 2]) torch.Size([50, 7671, 1])\n",
      "torch.Size([50, 7671, 2]) torch.Size([50, 7671, 1])\n",
      "torch.Size([50, 7671, 2]) torch.Size([50, 7671, 1])\n",
      "torch.Size([50, 7671, 2]) torch.Size([50, 7671, 1])\n"
     ]
    }
   ],
   "source": [
    "for i, (x, y) in enumerate(train_loader):\n",
    "    print(x.shape, y.shape)\n",
    "\n",
    "    if i > 3:\n",
    "        break\n"
   ]
  },
  {
   "cell_type": "code",
   "execution_count": 6,
   "metadata": {},
   "outputs": [],
   "source": [
    "import torch\n",
    "from torch import nn\n",
    "from torch import Tensor\n",
    "import numpy as np\n",
    "from tqdm import tqdm\n",
    "from collections import OrderedDict"
   ]
  },
  {
   "cell_type": "code",
   "execution_count": 7,
   "metadata": {},
   "outputs": [],
   "source": [
    "class FCN(nn.Module):\n",
    "    def __init__(\n",
    "            self,\n",
    "            num_feature: int,\n",
    "            num_targets: int=1,\n",
    "            num_hidden: int=8,\n",
    "            num_layers: int=2,\n",
    "            dropout: float = 0.0,\n",
    "            activation: nn.Module = nn.Sigmoid,\n",
    "            output_activation: nn.Module = nn.Identity,\n",
    "            learning_rate: float = 0.001,\n",
    "            weight_decay: float = 0.0) -> None:\n",
    "        \"\"\"A fully connected feed-forward model.\n",
    "        \n",
    "        Parameters\n",
    "        -----------\n",
    "        num_features: int\n",
    "            The number of input features.\n",
    "        num_targets: int (default is 1)\n",
    "            The number of targets.\n",
    "        num_hidden: int (default is 8)\n",
    "            The number of hidden nodes per layer.\n",
    "        num_layers: int (default is 2)\n",
    "            The number of hidden nodes.\n",
    "        dropout: float (default is 0.0)\n",
    "            The dropout used in all hidden layers.\n",
    "        activation: nn.Module (default is nn.Sigmoid)\n",
    "            The activation function.\n",
    "        output_activation: nn.Module (default is nn.Identity)\n",
    "            The output activation function, default is nn.Identity and does not transform the output.\n",
    "        learning_rate: float (default is 0.001):\n",
    "            The learning rate.\n",
    "        weight_decay: float (default is 0.0)\n",
    "            The weight decay (L2 regularization).\n",
    "        \"\"\"\n",
    "        super().__init__()\n",
    "\n",
    "        layers = OrderedDict()\n",
    "        in_sizes = [num_feature] + [num_hidden] * num_layers\n",
    "        out_sizes = [num_hidden] * num_layers + [num_targets]\n",
    "\n",
    "        for i, (nin, nout) in enumerate(zip(in_sizes, out_sizes)):\n",
    "            is_input_layer = i == 0\n",
    "            is_output_layer = i == num_layers\n",
    "\n",
    "            layers.update({f'linear{i}': nn.Linear(in_features=nin, out_features=nout)})\n",
    "\n",
    "            if not is_input_layer and not is_output_layer:\n",
    "                layers.update({f'dropout{i}': nn.Dropout(dropout)})\n",
    "\n",
    "            if is_output_layer:\n",
    "                layers.update({f'activation{i}': output_activation()})\n",
    "            else:\n",
    "                layers.update({f'activation{i}': activation()})\n",
    "\n",
    "        self.model = nn.Sequential(layers)\n",
    "\n",
    "        self.optimizer = self.get_optimizer(self.model.parameters(), learning_rate=learning_rate, weight_decay=weight_decay)\n",
    "\n",
    "        self.loss_fn = nn.MSELoss()\n",
    "\n",
    "    def forward(self, x: Tensor) -> Tensor:\n",
    "        return self.model(x)\n",
    "\n",
    "    def train_epoch(self, train_loader: torch.utils.data.DataLoader) -> Tensor:\n",
    "        self.train()\n",
    "\n",
    "        loss_sum = torch.zeros(1)\n",
    "        loss_counter = 0\n",
    "\n",
    "        for x, y in train_loader:\n",
    "            self.optimizer.zero_grad()\n",
    "\n",
    "            y_hat = self(x)\n",
    "            loss = self.loss_fn(y_hat, y)\n",
    "            loss.backward()\n",
    "\n",
    "            self.optimizer.step()\n",
    "\n",
    "            loss_sum += loss.item()\n",
    "            loss_counter += 1\n",
    "        \n",
    "        return (loss_sum / loss_counter).item()\n",
    "\n",
    "    @torch.no_grad()\n",
    "    def eval_epoch(self, valid_loader: torch.utils.data.DataLoader) -> Tensor:\n",
    "        self.eval()\n",
    "\n",
    "        loss_sum = torch.zeros(1)\n",
    "        loss_counter = 0\n",
    "\n",
    "        for x, y in valid_loader:\n",
    "\n",
    "            y_hat = self(x)\n",
    "            loss = self.loss_fn(y_hat, y)\n",
    "\n",
    "        loss_sum += loss.item()\n",
    "        loss_counter += 1\n",
    "\n",
    "        return (loss_sum / loss_counter).item()\n",
    "\n",
    "    def tune(self, num_epochs: int, train_loader: torch.utils.data.DataLoader, valid_loader: torch.utils.data.DataLoader) -> None:\n",
    "        self.train_losses = np.zeros(num_epochs)\n",
    "        self.valid_losses = np.zeros(num_epochs)\n",
    "\n",
    "        train_loss = -1\n",
    "        valid_loss = -1\n",
    "        pbar = tqdm(range(num_epochs))\n",
    "        for epoch in pbar:\n",
    "            pbar.set_description(f'train loss: {train_loss}, valid loss: {valid_loss}')\n",
    "\n",
    "            train_loss = self.train_epoch(train_loader=train_loader)\n",
    "            valid_loss = self.eval_epoch(valid_loader=valid_loader)\n",
    "\n",
    "            self.train_losses[epoch] = train_loss\n",
    "            self.valid_losses[epoch] = valid_loss\n",
    "\n",
    "    def get_optimizer(self, params: torch.ParameterDict, learning_rate: float = 0.001, weight_decay: float = 0.0) -> torch.optim.Optimizer:\n",
    "        return torch.optim.AdamW(params, lr=learning_rate, weight_decay=weight_decay)\n"
   ]
  },
  {
   "cell_type": "code",
   "execution_count": 8,
   "metadata": {},
   "outputs": [],
   "source": [
    "model = FCN(num_feature=2, learning_rate=0.1)"
   ]
  },
  {
   "cell_type": "code",
   "execution_count": 9,
   "metadata": {},
   "outputs": [
    {
     "name": "stderr",
     "output_type": "stream",
     "text": [
      "train loss: 2.5468218326568604, valid loss: 3.3669896125793457: 100%|██████████| 10/10 [05:32<00:00, 33.28s/it]\n"
     ]
    }
   ],
   "source": [
    "model.tune(num_epochs=10, train_loader=train_loader, valid_loader=valid_loader)"
   ]
  },
  {
   "cell_type": "code",
   "execution_count": 10,
   "metadata": {},
   "outputs": [
    {
     "data": {
      "text/plain": [
       "<matplotlib.legend.Legend at 0x146c9afd0>"
      ]
     },
     "execution_count": 10,
     "metadata": {},
     "output_type": "execute_result"
    },
    {
     "data": {
      "image/png": "[encoded data removed]",
      "text/plain": [
       "<Figure size 432x288 with 1 Axes>"
      ]
     },
     "metadata": {
      "needs_background": "light"
     },
     "output_type": "display_data"
    }
   ],
   "source": [
    "plt.plot(model.train_losses, label='training', color='tab:orange')\n",
    "plt.plot(model.valid_losses, label='validation', color='tab:red')\n",
    "\n",
    "plt.xlabel('epoch')\n",
    "plt.ylabel('mse loss')\n",
    "\n",
    "plt.legend()"
   ]
  },
  {
   "cell_type": "code",
   "execution_count": null,
   "metadata": {},
   "outputs": [],
   "source": []
  }
 ],
 "metadata": {
  "interpreter": {
   "hash": "92aae6b20a6f5ebf89ae3e9c40883b7c8e98dd47a94d1bbbc976466dcff59ecb"
  },
  "kernelspec": {
   "display_name": "Python 3.9.12 ('attr_hack')",
   "language": "python",
   "name": "python3"
  },
  "language_info": {
   "codemirror_mode": {
    "name": "ipython",
    "version": 3
   },
   "file_extension": ".py",
   "mimetype": "text/x-python",
   "name": "python",
   "nbconvert_exporter": "python",
   "pygments_lexer": "ipython3",
   "version": "3.9.12"
  },
  "orig_nbformat": 4
 },
 "nbformat": 4,
 "nbformat_minor": 2
}
