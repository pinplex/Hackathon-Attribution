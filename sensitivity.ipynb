{
 "cells": [
  {
   "cell_type": "code",
   "execution_count": 1,
   "metadata": {},
   "outputs": [],
   "source": [
    "## import modules\n",
    "import xarray as xr"
   ]
  },
  {
   "cell_type": "code",
   "execution_count": null,
   "metadata": {},
   "outputs": [],
   "source": [
    "## load models\n",
    "from hackathon.model_runner import ModelRunner\n",
    "from hackathon.base_model import BaseModel\n",
    "from hackathon.models.attn import MultiheadAttn as attn_model\n",
    "from hackathon.models.Conv1D import Conv1D as conv1d_model\n",
    "from hackathon.models.linear import Linear as linear_model\n",
    "from hackathon.models.LSTM import LSTM as lstm_model\n",
    "from hackathon.models.multimodel import EfficiencyModel as efficiency_model\n",
    "from hackathon.models.resnet import ResNetModule as resnet_model\n",
    "from hackathon.models.simplemlp import SimpleMLP as simplemlp_model\n",
    "\n",
    "models = [\n",
    "    #attn_model,\n",
    "    conv1d_model,\n",
    "    #linear_model,\n",
    "    #lstm_model,\n",
    "    #efficiency_model,\n",
    "    #resnet_model,\n",
    "    #simplemlp_model\n",
    "]"
   ]
  }
 ],
 "metadata": {
  "kernelspec": {
   "display_name": "Python 3.9.15 64-bit",
   "language": "python",
   "name": "python3"
  },
  "language_info": {
   "codemirror_mode": {
    "name": "ipython",
    "version": 3
   },
   "file_extension": ".py",
   "mimetype": "text/x-python",
   "name": "python",
   "nbconvert_exporter": "python",
   "pygments_lexer": "ipython3",
   "version": "3.9.15"
  },
  "orig_nbformat": 4,
  "vscode": {
   "interpreter": {
    "hash": "397704579725e15f5c7cb49fe5f0341eb7531c82d19f2c29d197e8b64ab5776b"
   }
  }
 },
 "nbformat": 4,
 "nbformat_minor": 2
}
